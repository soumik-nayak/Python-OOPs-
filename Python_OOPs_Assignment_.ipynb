{
  "nbformat": 4,
  "nbformat_minor": 0,
  "metadata": {
    "colab": {
      "provenance": []
    },
    "kernelspec": {
      "name": "python3",
      "display_name": "Python 3"
    },
    "language_info": {
      "name": "python"
    }
  },
  "cells": [
    {
      "cell_type": "markdown",
      "source": [
        "#Python OOPs Questions\n"
      ],
      "metadata": {
        "id": "2ywpPjshx8aa"
      }
    },
    {
      "cell_type": "code",
      "source": [
        "# 1. What is Object-Oriented Programming (OOP)?\n",
        "\"\"\"\n",
        "Object-Oriented Programming (OOP) is a programming paradigm that uses objects and classes to structure code.\n",
        "It focuses on creating reusable modules (objects) that have attributes and methods.\n",
        "Key principles of OOP are encapsulation, inheritance, abstraction, and polymorphism.\n",
        "\"\"\"\n",
        "\n",
        "# 2. What is a class in OOP?\n",
        "\"\"\"\n",
        "A class in OOP is a blueprint for creating objects. It defines attributes and methods that the objects instantiated\n",
        "from the class will have.\n",
        "Example:\n",
        "class Car:\n",
        "    def __init__(self, brand, model):\n",
        "        self.brand = brand\n",
        "        self.model = model\n",
        "\"\"\"\n",
        "\n",
        "# 3. What is an object in OOP?\n",
        "\"\"\"\n",
        "An object is an instance of a class. It is a specific entity with its own data and behaviors.\n",
        "Example:\n",
        "my_car = Car(\"Toyota\", \"Corolla\")\n",
        "\"\"\"\n",
        "\n",
        "# 4. What is the difference between abstraction and encapsulation?\n",
        "\"\"\"\n",
        "- Abstraction focuses on hiding implementation details while exposing essential functionality. It is achieved using\n",
        "  abstract classes or interfaces.\n",
        "- Encapsulation restricts access to an object's internal state and is implemented using private/protected attributes\n",
        "  and methods.\n",
        "\"\"\"\n",
        "\n",
        "# 5. What are dunder methods in Python?\n",
        "\"\"\"\n",
        "Dunder methods (double underscore) are special methods in Python that begin and end with `__`. Examples include:\n",
        "- __init__: Constructor\n",
        "- __str__: For readable string representation\n",
        "- __repr__: For developer-friendly string representation\n",
        "\"\"\"\n",
        "\n",
        "# 6. Explain the concept of inheritance in OOP.\n",
        "\"\"\"\n",
        "Inheritance allows a class (child class) to inherit methods and attributes from another class (parent class).\n",
        "It promotes code reuse.\n",
        "Example:\n",
        "class Animal:\n",
        "    def speak(self):\n",
        "        print(\"Animal speaks\")\n",
        "class Dog(Animal):\n",
        "    def speak(self):\n",
        "        print(\"Dog barks\")\n",
        "\"\"\"\n",
        "\n",
        "# 7. What is polymorphism in OOP?\n",
        "\"\"\"\n",
        "Polymorphism allows the same operation to behave differently on different objects.\n",
        "Example:\n",
        "class Cat:\n",
        "    def speak(self):\n",
        "        print(\"Meow\")\n",
        "class Dog:\n",
        "    def speak(self):\n",
        "        print(\"Bark\")\n",
        "animals = [Cat(), Dog()]\n",
        "for animal in animals:\n",
        "    animal.speak()\n",
        "\"\"\"\n",
        "\n",
        "# 8. How is encapsulation achieved in Python?\n",
        "\"\"\"\n",
        "Encapsulation is achieved by using private attributes (prefixed with `__`) and providing getter/setter methods.\n",
        "Example:\n",
        "class Person:\n",
        "    def __init__(self, name):\n",
        "        self.__name = name\n",
        "    def get_name(self):\n",
        "        return self.__name\n",
        "\"\"\"\n",
        "\n",
        "# 9. What is a constructor in Python?\n",
        "\"\"\"\n",
        "A constructor is a special method used to initialize an object. It is defined using the `__init__` method in Python.\n",
        "Example:\n",
        "class Person:\n",
        "    def __init__(self, name):\n",
        "        self.name = name\n",
        "\"\"\"\n",
        "\n",
        "# 10. What are class and static methods in Python?\n",
        "\"\"\"\n",
        "- Class methods are methods that operate on the class itself and are defined using `@classmethod`.\n",
        "- Static methods are independent utility methods defined within a class using `@staticmethod`.\n",
        "\"\"\"\n",
        "\n",
        "# 11. What is method overloading in Python?\n",
        "\"\"\"\n",
        "Python does not support traditional method overloading. Instead, it uses default arguments to achieve similar behavior.\n",
        "\"\"\"\n",
        "\n",
        "# 12. What is method overriding in OOP?\n",
        "\"\"\"\n",
        "Method overriding occurs when a subclass provides its own implementation of a method defined in the parent class.\n",
        "\"\"\"\n",
        "\n",
        "# 13. What is a property decorator in Python?\n",
        "\"\"\"\n",
        "The `@property` decorator is used to define a method as a read-only attribute.\n",
        "Example:\n",
        "class Circle:\n",
        "    def __init__(self, radius):\n",
        "        self.radius = radius\n",
        "    @property\n",
        "    def area(self):\n",
        "        return 3.14 * self.radius ** 2\n",
        "\"\"\"\n",
        "\n",
        "# 14. Why is polymorphism important in OOP?\n",
        "\"\"\"\n",
        "Polymorphism promotes flexibility by allowing code to work with objects of different types through a uniform interface.\n",
        "\"\"\"\n",
        "\n",
        "# 15. What is an abstract class in Python?\n",
        "\"\"\"\n",
        "An abstract class is a class that cannot be instantiated and often contains abstract methods (methods without implementations).\n",
        "It is created using the `abc` module.\n",
        "\"\"\"\n",
        "\n",
        "# 16. What are the advantages of OOP?\n",
        "\"\"\"\n",
        "Advantages of OOP include:\n",
        "- Code reuse through inheritance.\n",
        "- Modularity via encapsulation.\n",
        "- Scalability through polymorphism.\n",
        "- Easy maintenance.\n",
        "\"\"\"\n",
        "\n",
        "# 17. What is multiple inheritance in Python?\n",
        "\"\"\"\n",
        "Multiple inheritance allows a class to inherit attributes and methods from more than one parent class.\n",
        "\"\"\"\n",
        "\n",
        "# 18. What is the difference between a class variable and an instance variable?\n",
        "\"\"\"\n",
        "- Class variables are shared across all instances of the class.\n",
        "- Instance variables are specific to an instance of the class.\n",
        "\"\"\"\n",
        "\n",
        "# 19. What is the purpose of `__str__` and `__repr__` methods in Python?\n",
        "\"\"\"\n",
        "- `__str__` provides a readable string representation of an object for users.\n",
        "- `__repr__` provides an unambiguous string representation for developers.\n",
        "\"\"\"\n",
        "\n",
        "# 20. What is the significance of the `super()` function in Python?\n",
        "\"\"\"\n",
        "`super()` is used to call methods or attributes from a parent class, enabling access to its functionality.\n",
        "\"\"\"\n",
        "\n",
        "# 21. What is the significance of the `__del__` method in Python?\n",
        "\"\"\"\n",
        "The `__del__` method is a destructor method called when an object is deleted or garbage-collected.\n",
        "\"\"\"\n",
        "\n",
        "# 22. What is the difference between `@staticmethod` and `@classmethod` in Python?\n",
        "\"\"\"\n",
        "- `@staticmethod` defines methods that don’t access class or instance data.\n",
        "- `@classmethod` defines methods that access class-level data using the `cls` parameter.\n",
        "\"\"\"\n",
        "\n",
        "# 23. How does polymorphism work in Python with inheritance?\n",
        "\"\"\"\n",
        "Polymorphism allows methods in child classes to override or extend methods from parent classes, enabling dynamic behavior.\n",
        "\"\"\"\n",
        "\n",
        "# 24. What is method chaining in Python OOP?\n",
        "\"\"\"\n",
        "Method chaining allows multiple methods to be called on the same object in a single statement.\n",
        "Example:\n",
        "class Person:\n",
        "    def set_name(self, name):\n",
        "        self.name = name\n",
        "        return self\n",
        "    def set_age(self, age):\n",
        "        self.age = age\n",
        "        return self\n",
        "p = Person().set_name(\"John\").set_age(30)\n",
        "\"\"\"\n",
        "\n",
        "# 25. What is the purpose of the `__call__` method in Python?\n",
        "\"\"\"\n",
        "The `__call__` method allows an instance of a class to be called like a function.\n",
        "Example:\n",
        "class Counter:\n",
        "    def __init__(self):\n",
        "        self.count = 0\n",
        "    def __call__(self):\n",
        "        self.count += 1\n",
        "        return self.count\n",
        "\"\"\"\n"
      ],
      "metadata": {
        "id": "X2N9sFqLyB_7"
      },
      "execution_count": null,
      "outputs": []
    },
    {
      "cell_type": "markdown",
      "source": [
        "#Practical Questions"
      ],
      "metadata": {
        "id": "wvg4jvVbzkwk"
      }
    },
    {
      "cell_type": "code",
      "source": [
        "# 1. Create a parent class Animal with a method speak() that prints a generic message.\n",
        "# Create a child class Dog that overrides the speak() method to print \"Bark!\".\n",
        "class Animal:\n",
        "    def speak(self):\n",
        "        print(\"This animal makes a sound.\")\n",
        "\n",
        "class Dog(Animal):\n",
        "    def speak(self):\n",
        "        print(\"Bark!\")\n",
        "\n",
        "# Test\n",
        "animal = Animal()\n",
        "dog = Dog()\n",
        "animal.speak()\n",
        "dog.speak()\n"
      ],
      "metadata": {
        "colab": {
          "base_uri": "https://localhost:8080/"
        },
        "id": "hB4g_AeUznYy",
        "outputId": "82efc382-912d-4004-d444-bf158385d632"
      },
      "execution_count": 1,
      "outputs": [
        {
          "output_type": "stream",
          "name": "stdout",
          "text": [
            "This animal makes a sound.\n",
            "Bark!\n"
          ]
        }
      ]
    },
    {
      "cell_type": "code",
      "source": [
        "# 2. Create an abstract class Shape with a method area().\n",
        "# Derive classes Circle and Rectangle from it and implement the area() method in both.\n",
        "from abc import ABC, abstractmethod\n",
        "\n",
        "class Shape(ABC):\n",
        "    @abstractmethod\n",
        "    def area(self):\n",
        "        pass\n",
        "\n",
        "class Circle(Shape):\n",
        "    def __init__(self, radius):\n",
        "        self.radius = radius\n",
        "    def area(self):\n",
        "        return 3.14 * self.radius ** 2\n",
        "\n",
        "class Rectangle(Shape):\n",
        "    def __init__(self, width, height):\n",
        "        self.width = width\n",
        "        self.height = height\n",
        "    def area(self):\n",
        "        return self.width * self.height\n",
        "\n",
        "# Test\n",
        "circle = Circle(5)\n",
        "rectangle = Rectangle(4, 6)\n",
        "print(circle.area())    # Output: 78.5\n",
        "print(rectangle.area()) # Output: 24\n"
      ],
      "metadata": {
        "colab": {
          "base_uri": "https://localhost:8080/"
        },
        "id": "EXVU7b5mz6RK",
        "outputId": "92de06bb-0d89-42c9-fe14-008dc1356e3c"
      },
      "execution_count": 2,
      "outputs": [
        {
          "output_type": "stream",
          "name": "stdout",
          "text": [
            "78.5\n",
            "24\n"
          ]
        }
      ]
    },
    {
      "cell_type": "code",
      "source": [
        "# 3 & 4. Multi-level inheritance scenario with Vehicle, Car, and ElectricCar.\n",
        "class Vehicle:\n",
        "    def __init__(self, vehicle_type):\n",
        "        self.vehicle_type = vehicle_type\n",
        "\n",
        "class Car(Vehicle):\n",
        "    def __init__(self, vehicle_type, brand):\n",
        "        super().__init__(vehicle_type)\n",
        "        self.brand = brand\n",
        "\n",
        "class ElectricCar(Car):\n",
        "    def __init__(self, vehicle_type, brand, battery):\n",
        "        super().__init__(vehicle_type, brand)\n",
        "        self.battery = battery\n",
        "\n",
        "# Test\n",
        "electric_car = ElectricCar(\"Electric\", \"Tesla\", \"100 kWh\")\n",
        "print(electric_car.vehicle_type, electric_car.brand, electric_car.battery)  # Output: Electric Tesla 100 kWh\n"
      ],
      "metadata": {
        "colab": {
          "base_uri": "https://localhost:8080/"
        },
        "id": "UBYC38UB0LXf",
        "outputId": "2eda67df-1d41-4281-89c1-b309537ded71"
      },
      "execution_count": 3,
      "outputs": [
        {
          "output_type": "stream",
          "name": "stdout",
          "text": [
            "Electric Tesla 100 kWh\n"
          ]
        }
      ]
    },
    {
      "cell_type": "code",
      "source": [
        "# 5. Demonstrate encapsulation with a BankAccount class.\n",
        "class BankAccount:\n",
        "    def __init__(self, balance=0):\n",
        "        self.__balance = balance\n",
        "\n",
        "    def deposit(self, amount):\n",
        "        if amount > 0:\n",
        "            self.__balance += amount\n",
        "        else:\n",
        "            print(\"Deposit amount must be positive.\")\n",
        "\n",
        "    def withdraw(self, amount):\n",
        "        if 0 < amount <= self.__balance:\n",
        "            self.__balance -= amount\n",
        "        else:\n",
        "            print(\"Invalid withdraw amount.\")\n",
        "\n",
        "    def check_balance(self):\n",
        "        return self.__balance\n",
        "\n",
        "# Test\n",
        "account = BankAccount()\n",
        "account.deposit(100)\n",
        "account.withdraw(30)\n",
        "print(account.check_balance())  # Output: 70\n"
      ],
      "metadata": {
        "colab": {
          "base_uri": "https://localhost:8080/"
        },
        "id": "OmLSWaHx0Ns8",
        "outputId": "ccfe572d-a1d8-424b-fbcb-0963ff109d32"
      },
      "execution_count": 4,
      "outputs": [
        {
          "output_type": "stream",
          "name": "stdout",
          "text": [
            "70\n"
          ]
        }
      ]
    },
    {
      "cell_type": "code",
      "source": [
        "# 6. Runtime polymorphism with Instrument, Guitar, and Piano.\n",
        "class Instrument:\n",
        "    def play(self):\n",
        "        print(\"Playing an instrument.\")\n",
        "\n",
        "class Guitar(Instrument):\n",
        "    def play(self):\n",
        "        print(\"Strumming the guitar.\")\n",
        "\n",
        "class Piano(Instrument):\n",
        "    def play(self):\n",
        "        print(\"Playing the piano.\")\n",
        "\n",
        "# Test\n",
        "instruments = [Guitar(), Piano()]\n",
        "for instrument in instruments:\n",
        "    instrument.play()\n"
      ],
      "metadata": {
        "colab": {
          "base_uri": "https://localhost:8080/"
        },
        "id": "V_dwmJzP0V7i",
        "outputId": "01354747-bb49-41a1-b9e6-d95b6304723f"
      },
      "execution_count": 5,
      "outputs": [
        {
          "output_type": "stream",
          "name": "stdout",
          "text": [
            "Strumming the guitar.\n",
            "Playing the piano.\n"
          ]
        }
      ]
    },
    {
      "cell_type": "code",
      "source": [
        "# 7. MathOperations with class and static methods.\n",
        "class MathOperations:\n",
        "    @classmethod\n",
        "    def add_numbers(cls, a, b):\n",
        "        return a + b\n",
        "\n",
        "    @staticmethod\n",
        "    def subtract_numbers(a, b):\n",
        "        return a - b\n",
        "\n",
        "# Test\n",
        "print(MathOperations.add_numbers(5, 3))       # Output: 8\n",
        "print(MathOperations.subtract_numbers(5, 3)) # Output: 2\n"
      ],
      "metadata": {
        "colab": {
          "base_uri": "https://localhost:8080/"
        },
        "id": "okmghmt90YL5",
        "outputId": "8cdfa123-efb1-42b7-db72-cc284ee9f1eb"
      },
      "execution_count": 6,
      "outputs": [
        {
          "output_type": "stream",
          "name": "stdout",
          "text": [
            "8\n",
            "2\n"
          ]
        }
      ]
    },
    {
      "cell_type": "code",
      "source": [
        "# 8. Person with a class method to count persons created.\n",
        "class Person:\n",
        "    count = 0\n",
        "\n",
        "    def __init__(self):\n",
        "        Person.count += 1\n",
        "\n",
        "    @classmethod\n",
        "    def total_persons(cls):\n",
        "        return cls.count\n",
        "\n",
        "# Test\n",
        "p1 = Person()\n",
        "p2 = Person()\n",
        "print(Person.total_persons())  # Output: 2\n"
      ],
      "metadata": {
        "colab": {
          "base_uri": "https://localhost:8080/"
        },
        "id": "WZ17qfKu0Z9i",
        "outputId": "8556d2e3-6ea5-427e-96b2-29c4ac402131"
      },
      "execution_count": 7,
      "outputs": [
        {
          "output_type": "stream",
          "name": "stdout",
          "text": [
            "2\n"
          ]
        }
      ]
    },
    {
      "cell_type": "code",
      "source": [
        "# 9. Fraction class with overridden __str__ method.\n",
        "class Fraction:\n",
        "    def __init__(self, numerator, denominator):\n",
        "        self.numerator = numerator\n",
        "        self.denominator = denominator\n",
        "\n",
        "    def __str__(self):\n",
        "        return f\"{self.numerator}/{self.denominator}\"\n",
        "\n",
        "# Test\n",
        "fraction = Fraction(3, 4)\n",
        "print(fraction)  # Output: 3/4\n"
      ],
      "metadata": {
        "colab": {
          "base_uri": "https://localhost:8080/"
        },
        "id": "cZLbHJcN0bi9",
        "outputId": "ed6b17e8-5fc8-4ba6-8e98-76ec5e5b1eac"
      },
      "execution_count": 8,
      "outputs": [
        {
          "output_type": "stream",
          "name": "stdout",
          "text": [
            "3/4\n"
          ]
        }
      ]
    },
    {
      "cell_type": "code",
      "source": [
        "# 10. Operator overloading with a Vector class.\n",
        "class Vector:\n",
        "    def __init__(self, x, y):\n",
        "        self.x = x\n",
        "        self.y = y\n",
        "\n",
        "    def __add__(self, other):\n",
        "        return Vector(self.x + other.x, self.y + other.y)\n",
        "\n",
        "    def __str__(self):\n",
        "        return f\"Vector({self.x}, {self.y})\"\n",
        "\n",
        "# Test\n",
        "v1 = Vector(1, 2)\n",
        "v2 = Vector(3, 4)\n",
        "print(v1 + v2)  # Output: Vector(4, 6)\n"
      ],
      "metadata": {
        "colab": {
          "base_uri": "https://localhost:8080/"
        },
        "id": "lieUEcuw0dm7",
        "outputId": "fb6d30c5-0717-483b-f2fc-64632f50a1e2"
      },
      "execution_count": 9,
      "outputs": [
        {
          "output_type": "stream",
          "name": "stdout",
          "text": [
            "Vector(4, 6)\n"
          ]
        }
      ]
    },
    {
      "cell_type": "code",
      "source": [
        "# 11. Person class with greet method.\n",
        "class Person:\n",
        "    def __init__(self, name, age):\n",
        "        self.name = name\n",
        "        self.age = age\n",
        "\n",
        "    def greet(self):\n",
        "        print(f\"Hello, my name is {self.name} and I am {self.age} years old.\")\n",
        "\n",
        "# Test\n",
        "person = Person(\"Alice\", 30)\n",
        "person.greet()\n"
      ],
      "metadata": {
        "colab": {
          "base_uri": "https://localhost:8080/"
        },
        "id": "8LBunc0B0fbz",
        "outputId": "f0514886-9f52-4b2d-953b-5302608f34c5"
      },
      "execution_count": 10,
      "outputs": [
        {
          "output_type": "stream",
          "name": "stdout",
          "text": [
            "Hello, my name is Alice and I am 30 years old.\n"
          ]
        }
      ]
    },
    {
      "cell_type": "code",
      "source": [
        "# 12. Student class with average_grade method.\n",
        "class Student:\n",
        "    def __init__(self, name, grades):\n",
        "        self.name = name\n",
        "        self.grades = grades\n",
        "\n",
        "    def average_grade(self):\n",
        "        return sum(self.grades) / len(self.grades)\n",
        "\n",
        "# Test\n",
        "student = Student(\"John\", [85, 90, 78])\n",
        "print(student.average_grade())  # Output: 84.33\n"
      ],
      "metadata": {
        "colab": {
          "base_uri": "https://localhost:8080/"
        },
        "id": "Kg71IycL0hXl",
        "outputId": "470e992e-8060-492d-e82a-cef1232b1347"
      },
      "execution_count": 11,
      "outputs": [
        {
          "output_type": "stream",
          "name": "stdout",
          "text": [
            "84.33333333333333\n"
          ]
        }
      ]
    },
    {
      "cell_type": "code",
      "source": [
        "# 13. Rectangle class with set_dimensions and area methods.\n",
        "class Rectangle:\n",
        "    def __init__(self):\n",
        "        self.width = 0\n",
        "        self.height = 0\n",
        "\n",
        "    def set_dimensions(self, width, height):\n",
        "        self.width = width\n",
        "        self.height = height\n",
        "\n",
        "    def area(self):\n",
        "        return self.width * self.height\n",
        "\n",
        "# Test\n",
        "rect = Rectangle()\n",
        "rect.set_dimensions(4, 5)\n",
        "print(rect.area())  # Output: 20\n"
      ],
      "metadata": {
        "colab": {
          "base_uri": "https://localhost:8080/"
        },
        "id": "qDyxdqN8-hC-",
        "outputId": "9546cf02-7686-4eff-e3ad-320ff5e3c29d"
      },
      "execution_count": 12,
      "outputs": [
        {
          "output_type": "stream",
          "name": "stdout",
          "text": [
            "20\n"
          ]
        }
      ]
    },
    {
      "cell_type": "code",
      "source": [
        "# 14. Employee and Manager classes with calculate_salary method.\n",
        "class Employee:\n",
        "    def __init__(self, hours_worked, hourly_rate):\n",
        "        self.hours_worked = hours_worked\n",
        "        self.hourly_rate = hourly_rate\n",
        "\n",
        "    def calculate_salary(self):\n",
        "        return self.hours_worked * self.hourly_rate\n",
        "\n",
        "class Manager(Employee):\n",
        "    def __init__(self, hours_worked, hourly_rate, bonus):\n",
        "        super().__init__(hours_worked, hourly_rate)\n",
        "        self.bonus = bonus\n",
        "\n",
        "    def calculate_salary(self):\n",
        "        return super().calculate_salary() + self.bonus\n",
        "\n",
        "# Test\n",
        "manager = Manager(40, 50, 1000)\n",
        "print(manager.calculate_salary())  # Output: 3000\n"
      ],
      "metadata": {
        "colab": {
          "base_uri": "https://localhost:8080/"
        },
        "id": "ilpA5Bbk-jqd",
        "outputId": "b289399e-54fb-4da1-caf1-0942b86f2715"
      },
      "execution_count": 13,
      "outputs": [
        {
          "output_type": "stream",
          "name": "stdout",
          "text": [
            "3000\n"
          ]
        }
      ]
    },
    {
      "cell_type": "code",
      "source": [
        "# 15. Product class with total_price method.# 16. Animal abstract class with sound method and derived classes Cow and Sheep.\n",
        "from abc import ABC, abstractmethod\n",
        "\n",
        "class Animal(ABC):\n",
        "    @abstractmethod\n",
        "    def sound(self):\n",
        "        pass\n",
        "\n",
        "class Cow(Animal):\n",
        "    def sound(self):\n",
        "        print(\"Moo\")\n",
        "\n",
        "class Sheep(Animal):\n",
        "    def sound(self):\n",
        "        print(\"Baa\")\n",
        "\n",
        "# Test\n",
        "cow = Cow()\n",
        "sheep = Sheep()\n",
        "cow.sound()  # Output: Moo\n",
        "sheep.sound()  # Output: Baa\n",
        "\n",
        "class Product:\n",
        "    def __init__(self, name, price, quantity):\n",
        "        self.name = name\n",
        "        self.price = price\n",
        "        self.quantity = quantity\n",
        "\n",
        "    def total_price(self):\n",
        "        return self.price * self.quantity\n",
        "\n",
        "# Test\n",
        "product = Product(\"Laptop\", 800, 2)\n",
        "print(product.total_price())  # Output: 1600\n"
      ],
      "metadata": {
        "colab": {
          "base_uri": "https://localhost:8080/"
        },
        "id": "9Xz7a-ay-lV6",
        "outputId": "e2834085-ccda-4b21-93de-2d276351131b"
      },
      "execution_count": 15,
      "outputs": [
        {
          "output_type": "stream",
          "name": "stdout",
          "text": [
            "Moo\n",
            "Baa\n",
            "1600\n"
          ]
        }
      ]
    },
    {
      "cell_type": "code",
      "source": [
        "# 17. Book class with get_book_info method.\n",
        "class Book:\n",
        "    def __init__(self, title, author, year_published):\n",
        "        self.title = title\n",
        "        self.author = author\n",
        "        self.year_published = year_published\n",
        "\n",
        "    def get_book_info(self):\n",
        "        return f\"'{self.title}' by {self.author}, published in {self.year_published}\"\n",
        "\n",
        "# Test\n",
        "book = Book(\"1984\", \"George Orwell\", 1949)\n",
        "print(book.get_book_info())  # Output: '1984' by George Orwell, published in 1949\n"
      ],
      "metadata": {
        "colab": {
          "base_uri": "https://localhost:8080/"
        },
        "id": "qTDzfV_d-nZf",
        "outputId": "2701c442-75e5-42a6-c6d9-bb3e0f39e51f"
      },
      "execution_count": 16,
      "outputs": [
        {
          "output_type": "stream",
          "name": "stdout",
          "text": [
            "'1984' by George Orwell, published in 1949\n"
          ]
        }
      ]
    },
    {
      "cell_type": "code",
      "source": [
        "# 18. House class and derived class Mansion with number_of_rooms attribute.\n",
        "class House:\n",
        "    def __init__(self, address, price):\n",
        "        self.address = address\n",
        "        self.price = price\n",
        "\n",
        "class Mansion(House):\n",
        "    def __init__(self, address, price, number_of_rooms):\n",
        "        super().__init__(address, price)\n",
        "        self.number_of_rooms = number_of_rooms\n",
        "\n",
        "# Test\n",
        "mansion = Mansion(\"123 Luxury Ave\", 5000000, 10)\n",
        "print(mansion.address, mansion.price, mansion.number_of_rooms)  # Output: 123 Luxury Ave 5000000 10\n"
      ],
      "metadata": {
        "colab": {
          "base_uri": "https://localhost:8080/"
        },
        "id": "L-bH8SJk-qX3",
        "outputId": "8c156cb7-4b6d-489a-df4e-5b69751c5c51"
      },
      "execution_count": 17,
      "outputs": [
        {
          "output_type": "stream",
          "name": "stdout",
          "text": [
            "123 Luxury Ave 5000000 10\n"
          ]
        }
      ]
    },
    {
      "cell_type": "code",
      "source": [],
      "metadata": {
        "id": "wCbS5bxe-sdV"
      },
      "execution_count": null,
      "outputs": []
    }
  ]
}